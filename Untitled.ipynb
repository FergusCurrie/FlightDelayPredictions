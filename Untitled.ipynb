{
 "cells": [
  {
   "cell_type": "code",
   "execution_count": 2,
   "metadata": {},
   "outputs": [],
   "source": [
    "import numpy as np\n",
    "import pandas as pd "
   ]
  },
  {
   "cell_type": "code",
   "execution_count": 3,
   "metadata": {},
   "outputs": [],
   "source": [
    "fd = pd.read_csv('Jan_2020_ontime.csv')"
   ]
  },
  {
   "cell_type": "code",
   "execution_count": 4,
   "metadata": {},
   "outputs": [
    {
     "name": "stdout",
     "output_type": "stream",
     "text": [
      "22\n",
      "Index(['DAY_OF_MONTH', 'DAY_OF_WEEK', 'OP_UNIQUE_CARRIER',\n",
      "       'OP_CARRIER_AIRLINE_ID', 'OP_CARRIER', 'TAIL_NUM', 'OP_CARRIER_FL_NUM',\n",
      "       'ORIGIN_AIRPORT_ID', 'ORIGIN_AIRPORT_SEQ_ID', 'ORIGIN',\n",
      "       'DEST_AIRPORT_ID', 'DEST_AIRPORT_SEQ_ID', 'DEST', 'DEP_TIME',\n",
      "       'DEP_DEL15', 'DEP_TIME_BLK', 'ARR_TIME', 'ARR_DEL15', 'CANCELLED',\n",
      "       'DIVERTED', 'DISTANCE', 'Unnamed: 21'],\n",
      "      dtype='object')\n"
     ]
    }
   ],
   "source": [
    "print(len(fd.columns))\n",
    "print(fd.columns)"
   ]
  },
  {
   "cell_type": "code",
   "execution_count": 5,
   "metadata": {},
   "outputs": [
    {
     "name": "stdout",
     "output_type": "stream",
     "text": [
      "Index(['DAY_OF_MONTH', 'DAY_OF_WEEK', 'OP_UNIQUE_CARRIER',\n",
      "       'OP_CARRIER_AIRLINE_ID', 'OP_CARRIER', 'TAIL_NUM', 'OP_CARRIER_FL_NUM',\n",
      "       'ORIGIN_AIRPORT_ID', 'ORIGIN_AIRPORT_SEQ_ID', 'ORIGIN',\n",
      "       'DEST_AIRPORT_ID', 'DEST_AIRPORT_SEQ_ID', 'DEST', 'DEP_TIME',\n",
      "       'DEP_DEL15', 'DEP_TIME_BLK', 'ARR_TIME', 'ARR_DEL15', 'CANCELLED',\n",
      "       'DIVERTED', 'DISTANCE'],\n",
      "      dtype='object')\n"
     ]
    }
   ],
   "source": [
    "fd = fd.drop('Unnamed: 21',axis=1)\n",
    "print(fd.columns)\n"
   ]
  },
  {
   "cell_type": "code",
   "execution_count": 12,
   "metadata": {},
   "outputs": [
    {
     "name": "stdout",
     "output_type": "stream",
     "text": [
      "0         0.0\n",
      "1         0.0\n",
      "2         0.0\n",
      "3         0.0\n",
      "4         0.0\n",
      "         ... \n",
      "607341    1.0\n",
      "607342    0.0\n",
      "607343    0.0\n",
      "607344    0.0\n",
      "607345    0.0\n",
      "Name: ARR_DEL15, Length: 607346, dtype: float64\n"
     ]
    }
   ],
   "source": [
    "print(fd['ARR_DEL15'])"
   ]
  },
  {
   "cell_type": "code",
   "execution_count": 11,
   "metadata": {},
   "outputs": [
    {
     "ename": "ModuleNotFoundError",
     "evalue": "No module named 'pandas_profiling'",
     "output_type": "error",
     "traceback": [
      "\u001b[0;31m---------------------------------------------------------------------------\u001b[0m",
      "\u001b[0;31mModuleNotFoundError\u001b[0m                       Traceback (most recent call last)",
      "\u001b[0;32m<ipython-input-11-48dcf7a39ea8>\u001b[0m in \u001b[0;36m<module>\u001b[0;34m\u001b[0m\n\u001b[0;32m----> 1\u001b[0;31m \u001b[0;32mfrom\u001b[0m \u001b[0mpandas_profiling\u001b[0m \u001b[0;32mimport\u001b[0m \u001b[0mProfileReport\u001b[0m \u001b[0;32mas\u001b[0m \u001b[0mpr\u001b[0m\u001b[0;34m\u001b[0m\u001b[0;34m\u001b[0m\u001b[0m\n\u001b[0m\u001b[1;32m      2\u001b[0m \u001b[0mpr\u001b[0m\u001b[0;34m(\u001b[0m\u001b[0mfd\u001b[0m\u001b[0;34m)\u001b[0m\u001b[0;34m\u001b[0m\u001b[0;34m\u001b[0m\u001b[0m\n",
      "\u001b[0;31mModuleNotFoundError\u001b[0m: No module named 'pandas_profiling'"
     ]
    }
   ],
   "source": [
    "from pandas_profiling import ProfileReport as pr\n",
    "pr(fd)"
   ]
  },
  {
   "cell_type": "code",
   "execution_count": 19,
   "metadata": {},
   "outputs": [
    {
     "name": "stdout",
     "output_type": "stream",
     "text": [
      "DAY_OF_MONTH has unique = 31\n",
      "DAY_OF_WEEK has unique = 7\n",
      "OP_UNIQUE_CARRIER has unique = 17\n",
      "OP_CARRIER_AIRLINE_ID has unique = 17\n",
      "OP_CARRIER has unique = 17\n",
      "TAIL_NUM has unique = 5445\n",
      "OP_CARRIER_FL_NUM has unique = 6720\n",
      "ORIGIN_AIRPORT_ID has unique = 351\n",
      "ORIGIN_AIRPORT_SEQ_ID has unique = 351\n",
      "ORIGIN has unique = 351\n",
      "DEST_AIRPORT_ID has unique = 350\n",
      "DEST_AIRPORT_SEQ_ID has unique = 350\n",
      "DEST has unique = 350\n",
      "DEP_TIME has unique = 1433\n",
      "DEP_DEL15 has unique = 3\n",
      "DEP_TIME_BLK has unique = 19\n",
      "ARR_TIME has unique = 1441\n",
      "ARR_DEL15 has unique = 3\n",
      "CANCELLED has unique = 2\n",
      "DIVERTED has unique = 2\n",
      "DISTANCE has unique = 1471\n"
     ]
    }
   ],
   "source": [
    "#print(len(fd[\"TAIL_NUM\"].unique()))\n",
    "for column in fd:\n",
    "    print(\"{} has unique = {}\".format(column, len(fd[column].unique())))"
   ]
  },
  {
   "cell_type": "code",
   "execution_count": 21,
   "metadata": {},
   "outputs": [
    {
     "name": "stdout",
     "output_type": "stream",
     "text": [
      "['1000-1059' '1800-1859' '0600-0659' '1600-1659' '1400-1459' '1900-1959'\n",
      " '1100-1159' '0700-0759' '2100-2159' '1500-1559' '0900-0959' '1700-1759'\n",
      " '1200-1259' '0800-0859' '0001-0559' '2000-2059' '1300-1359' '2200-2259'\n",
      " '2300-2359']\n"
     ]
    }
   ],
   "source": [
    "print(fd[\"DEP_TIME_BLK\"].unique())"
   ]
  },
  {
   "cell_type": "code",
   "execution_count": null,
   "metadata": {},
   "outputs": [],
   "source": []
  }
 ],
 "metadata": {
  "kernelspec": {
   "display_name": "Python 3",
   "language": "python",
   "name": "python3"
  },
  "language_info": {
   "codemirror_mode": {
    "name": "ipython",
    "version": 3
   },
   "file_extension": ".py",
   "mimetype": "text/x-python",
   "name": "python",
   "nbconvert_exporter": "python",
   "pygments_lexer": "ipython3",
   "version": "3.8.8"
  }
 },
 "nbformat": 4,
 "nbformat_minor": 4
}
